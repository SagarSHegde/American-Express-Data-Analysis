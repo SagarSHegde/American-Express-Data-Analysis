{
  "nbformat": 4,
  "nbformat_minor": 0,
  "metadata": {
    "colab": {
      "provenance": [],
      "toc_visible": true,
      "authorship_tag": "ABX9TyP7G8qVLPrYuESaWyVoTYii",
      "include_colab_link": true
    },
    "kernelspec": {
      "name": "python3",
      "display_name": "Python 3"
    },
    "language_info": {
      "name": "python"
    }
  },
  "cells": [
    {
      "cell_type": "markdown",
      "metadata": {
        "id": "view-in-github",
        "colab_type": "text"
      },
      "source": [
        "<a href=\"https://colab.research.google.com/github/SagarSHegde/test/blob/main/American_Express_Data_Analysis.ipynb\" target=\"_parent\"><img src=\"https://colab.research.google.com/assets/colab-badge.svg\" alt=\"Open In Colab\"/></a>"
      ]
    },
    {
      "cell_type": "code",
      "execution_count": 9,
      "metadata": {
        "id": "iq58BC3Zx8vo"
      },
      "outputs": [],
      "source": [
        "import numpy as np\n",
        "import matplotlib.pyplot as plt\n",
        "import pandas as pd"
      ]
    },
    {
      "cell_type": "code",
      "source": [
        "data_set = pd.read_csv('Covid_Data_new.csv')\n",
        "X = data_set.iloc[:, :-1].values\n",
        "y = data_set.iloc[:, -1].values"
      ],
      "metadata": {
        "id": "iDuuEfjH0NPW"
      },
      "execution_count": 16,
      "outputs": []
    },
    {
      "cell_type": "code",
      "source": [
        "print(X)"
      ],
      "metadata": {
        "colab": {
          "base_uri": "https://localhost:8080/"
        },
        "id": "nwbQSALP-Iks",
        "outputId": "8c978a70-b003-4e9d-b8fd-6f10f128a196"
      },
      "execution_count": 18,
      "outputs": [
        {
          "output_type": "stream",
          "name": "stdout",
          "text": [
            "[[10.0 'Normal' 'no' 'no' 97.0]\n",
            " [12.0 'Normal' 'no' 'no' 97.0]\n",
            " [15.0 'Normal' 'no' 'no' 94.0]\n",
            " [10.0 'Normal' 'no' 'no' 97.0]\n",
            " [13.0 'Moderate' 'no' 'no' 94.0]\n",
            " [12.0 'Moderate' 'no' 'no' 97.0]\n",
            " [13.0 'Moderate' 'no' 'no' 93.0]\n",
            " [15.0 'Moderate' 'no' 'no' 92.0]\n",
            " [18.0 'Moderate' 'no' 'no' 66.0]\n",
            " [19.0 'Normal' 'no' 'no' 92.0]\n",
            " [20.0 'Normal' 'no' 'no' 93.0]\n",
            " [17.0 'Normal' 'no' 'no' 93.0]\n",
            " [16.0 'Normal' 'no' 'no' 92.0]\n",
            " [18.0 'Normal' 'no' 'no' 93.0]\n",
            " [20.0 'Normal' 'no' 'no' 92.0]\n",
            " [25.0 'Moderate' 'no' 'no' 93.0]\n",
            " [24.0 'Moderate' 'no' 'no' 92.0]\n",
            " [26.0 'High' 'no' 'no' 94.0]\n",
            " [28.0 'Normal' 'no' 'no' 99.0]\n",
            " [29.0 'Normal' 'no' 'no' 93.0]\n",
            " [30.0 'Moderate' 'no' 'no' 62.0]\n",
            " [19.0 'Normal' 'no' 'no' 89.0]\n",
            " [25.0 'Normal' 'no' 'yes' 86.0]\n",
            " [26.0 'Normal' 'no' 'no' nan]\n",
            " [28.0 'Normal' 'no' 'no' 89.0]\n",
            " [30.0 'Moderate' 'yes' 'no' 86.0]\n",
            " [35.0 'Moderate' 'no' 'no' 89.0]\n",
            " [32.0 'Moderate' 'no' 'yes' 84.0]\n",
            " [nan 'Moderate' 'yes' 'no' 90.0]\n",
            " [32.0 'Moderate' 'no' 'no' 89.0]\n",
            " [35.0 'Moderate' 'no' 'yes' 92.0]\n",
            " [38.0 'High' 'no' 'no' 75.0]\n",
            " [40.0 'Moderate' 'no' 'yes' 90.0]\n",
            " [46.0 'High' 'yes' 'no' 91.0]\n",
            " [48.0 'Moderate' 'no' 'yes' 93.0]\n",
            " [42.0 'High' 'no' 'no' 92.0]\n",
            " [40.0 'High' 'no' 'no' 92.0]\n",
            " [49.0 'Moderate' 'no' 'no' 80.0]\n",
            " [50.0 'High' 'yes' 'yes' 77.0]\n",
            " [36.0 'High' 'yes' 'no' 90.0]\n",
            " [52.0 'High' 'yes' 'yes' 80.0]\n",
            " [56.0 'High' 'yes' 'yes' 77.0]\n",
            " [58.0 'High' 'no' 'no' 70.0]\n",
            " [59.0 'High' 'no' 'yes' 69.0]\n",
            " [60.0 'High' 'yes' 'yes' 68.0]\n",
            " [53.0 'High' 'yes' 'no' 55.0]\n",
            " [54.0 'High' 'yes' 'yes' 70.0]\n",
            " [62.0 'High' 'yes' 'yes' 68.0]\n",
            " [63.0 'High' 'yes' 'yes' 66.0]\n",
            " [68.0 'High' 'yes' 'no' 67.0]\n",
            " [69.0 'High' 'no' 'yes' 53.0]\n",
            " [64.0 'High' 'yes' 'yes' 73.0]\n",
            " [61.0 'High' 'yes' 'yes' 76.0]\n",
            " [70.0 'Normal' 'no' 'yes' 88.0]\n",
            " [59.0 'High' 'yes' 'no' 68.0]\n",
            " [62.0 'High' 'yes' 'yes' 69.0]\n",
            " [78.0 'High' 'yes' 'yes' 71.0]\n",
            " [74.0 'High' 'yes' 'yes' 75.0]\n",
            " [75.0 'High' 'no' 'yes' 72.0]\n",
            " [56.0 'High' 'yes' 'no' 76.0]\n",
            " [80.0 'High' 'no' 'yes' 92.0]\n",
            " [82.0 'High' 'yes' 'yes' 73.0]\n",
            " [86.0 'High' 'yes' 'yes' 71.0]\n",
            " [90.0 'High' 'yes' 'yes' 67.0]\n",
            " [84.0 'High' 'yes' 'yes' 75.0]\n",
            " [86.0 'High' 'no' 'yes' 76.0]\n",
            " [61.0 'Moderate' 'no' 'yes' 90.0]\n",
            " [94.0 'High' 'yes' 'yes' 64.0]\n",
            " [81.0 'High' 'yes' 'yes' 75.0]\n",
            " [76.0 'High' 'yes' 'yes' 80.0]]\n"
          ]
        }
      ]
    },
    {
      "cell_type": "code",
      "source": [
        "print(y)\n"
      ],
      "metadata": {
        "colab": {
          "base_uri": "https://localhost:8080/"
        },
        "id": "2LM6-Ccm-Iye",
        "outputId": "c84eefb3-203d-4410-9353-a5d582d84420"
      },
      "execution_count": 19,
      "outputs": [
        {
          "output_type": "stream",
          "name": "stdout",
          "text": [
            "['No' 'No' 'No' 'No' 'No' 'No' 'No' 'No' 'Yes' 'No' 'No' 'No' 'No' 'No'\n",
            " 'No' 'No' 'No' 'No' 'No' 'No' 'Yes' 'No' 'No' 'No' 'No' 'No' 'No' 'No'\n",
            " 'No' 'No' 'No' 'Yes' 'No' 'No' 'No' 'No' 'No' 'Yes' 'Yes' 'No' 'Yes'\n",
            " 'Yes' 'Yes' 'Yes' 'Yes' 'Yes' 'Yes' 'Yes' 'Yes' 'Yes' 'Yes' 'Yes' 'Yes'\n",
            " 'No' 'Yes' 'Yes' 'Yes' 'Yes' 'Yes' 'Yes' 'No' 'Yes' 'Yes' 'Yes' 'Yes'\n",
            " 'Yes' 'No' 'Yes' 'Yes' 'Yes']\n"
          ]
        }
      ]
    },
    {
      "cell_type": "code",
      "source": [
        "from sklearn.impute import SimpleImputer\n",
        "imputer = SimpleImputer(missing_values = np.nan, strategy = 'mean')\n",
        "\n",
        "imputer.fit(X[:, 0:1])\n",
        "X[: , 0:1] = imputer.transform(X[:, 0:1])"
      ],
      "metadata": {
        "id": "_GMIYzRA-I1M"
      },
      "execution_count": 20,
      "outputs": []
    },
    {
      "cell_type": "code",
      "source": [
        "imputer.fit(X[:, 4:5])\n",
        "X[: , 4:5] = imputer.transform(X[:, 4:5])"
      ],
      "metadata": {
        "id": "yzfjHFp4-I4m"
      },
      "execution_count": 21,
      "outputs": []
    },
    {
      "cell_type": "code",
      "source": [
        "print(X)"
      ],
      "metadata": {
        "colab": {
          "base_uri": "https://localhost:8080/"
        },
        "id": "LdqrdMGG-I8d",
        "outputId": "1f16b261-6d0b-4593-b904-a6189b0e507e"
      },
      "execution_count": 22,
      "outputs": [
        {
          "output_type": "stream",
          "name": "stdout",
          "text": [
            "[[10.0 'Normal' 'no' 'no' 97.0]\n",
            " [12.0 'Normal' 'no' 'no' 97.0]\n",
            " [15.0 'Normal' 'no' 'no' 94.0]\n",
            " [10.0 'Normal' 'no' 'no' 97.0]\n",
            " [13.0 'Moderate' 'no' 'no' 94.0]\n",
            " [12.0 'Moderate' 'no' 'no' 97.0]\n",
            " [13.0 'Moderate' 'no' 'no' 93.0]\n",
            " [15.0 'Moderate' 'no' 'no' 92.0]\n",
            " [18.0 'Moderate' 'no' 'no' 66.0]\n",
            " [19.0 'Normal' 'no' 'no' 92.0]\n",
            " [20.0 'Normal' 'no' 'no' 93.0]\n",
            " [17.0 'Normal' 'no' 'no' 93.0]\n",
            " [16.0 'Normal' 'no' 'no' 92.0]\n",
            " [18.0 'Normal' 'no' 'no' 93.0]\n",
            " [20.0 'Normal' 'no' 'no' 92.0]\n",
            " [25.0 'Moderate' 'no' 'no' 93.0]\n",
            " [24.0 'Moderate' 'no' 'no' 92.0]\n",
            " [26.0 'High' 'no' 'no' 94.0]\n",
            " [28.0 'Normal' 'no' 'no' 99.0]\n",
            " [29.0 'Normal' 'no' 'no' 93.0]\n",
            " [30.0 'Moderate' 'no' 'no' 62.0]\n",
            " [19.0 'Normal' 'no' 'no' 89.0]\n",
            " [25.0 'Normal' 'no' 'yes' 86.0]\n",
            " [26.0 'Normal' 'no' 'no' 82.07246376811594]\n",
            " [28.0 'Normal' 'no' 'no' 89.0]\n",
            " [30.0 'Moderate' 'yes' 'no' 86.0]\n",
            " [35.0 'Moderate' 'no' 'no' 89.0]\n",
            " [32.0 'Moderate' 'no' 'yes' 84.0]\n",
            " [45.130434782608695 'Moderate' 'yes' 'no' 90.0]\n",
            " [32.0 'Moderate' 'no' 'no' 89.0]\n",
            " [35.0 'Moderate' 'no' 'yes' 92.0]\n",
            " [38.0 'High' 'no' 'no' 75.0]\n",
            " [40.0 'Moderate' 'no' 'yes' 90.0]\n",
            " [46.0 'High' 'yes' 'no' 91.0]\n",
            " [48.0 'Moderate' 'no' 'yes' 93.0]\n",
            " [42.0 'High' 'no' 'no' 92.0]\n",
            " [40.0 'High' 'no' 'no' 92.0]\n",
            " [49.0 'Moderate' 'no' 'no' 80.0]\n",
            " [50.0 'High' 'yes' 'yes' 77.0]\n",
            " [36.0 'High' 'yes' 'no' 90.0]\n",
            " [52.0 'High' 'yes' 'yes' 80.0]\n",
            " [56.0 'High' 'yes' 'yes' 77.0]\n",
            " [58.0 'High' 'no' 'no' 70.0]\n",
            " [59.0 'High' 'no' 'yes' 69.0]\n",
            " [60.0 'High' 'yes' 'yes' 68.0]\n",
            " [53.0 'High' 'yes' 'no' 55.0]\n",
            " [54.0 'High' 'yes' 'yes' 70.0]\n",
            " [62.0 'High' 'yes' 'yes' 68.0]\n",
            " [63.0 'High' 'yes' 'yes' 66.0]\n",
            " [68.0 'High' 'yes' 'no' 67.0]\n",
            " [69.0 'High' 'no' 'yes' 53.0]\n",
            " [64.0 'High' 'yes' 'yes' 73.0]\n",
            " [61.0 'High' 'yes' 'yes' 76.0]\n",
            " [70.0 'Normal' 'no' 'yes' 88.0]\n",
            " [59.0 'High' 'yes' 'no' 68.0]\n",
            " [62.0 'High' 'yes' 'yes' 69.0]\n",
            " [78.0 'High' 'yes' 'yes' 71.0]\n",
            " [74.0 'High' 'yes' 'yes' 75.0]\n",
            " [75.0 'High' 'no' 'yes' 72.0]\n",
            " [56.0 'High' 'yes' 'no' 76.0]\n",
            " [80.0 'High' 'no' 'yes' 92.0]\n",
            " [82.0 'High' 'yes' 'yes' 73.0]\n",
            " [86.0 'High' 'yes' 'yes' 71.0]\n",
            " [90.0 'High' 'yes' 'yes' 67.0]\n",
            " [84.0 'High' 'yes' 'yes' 75.0]\n",
            " [86.0 'High' 'no' 'yes' 76.0]\n",
            " [61.0 'Moderate' 'no' 'yes' 90.0]\n",
            " [94.0 'High' 'yes' 'yes' 64.0]\n",
            " [81.0 'High' 'yes' 'yes' 75.0]\n",
            " [76.0 'High' 'yes' 'yes' 80.0]]\n"
          ]
        }
      ]
    },
    {
      "cell_type": "code",
      "source": [
        "from sklearn.compose import ColumnTransformer\n",
        "from sklearn.preprocessing import OneHotEncoder"
      ],
      "metadata": {
        "id": "WvmnrQ34-I-r"
      },
      "execution_count": 23,
      "outputs": []
    },
    {
      "cell_type": "code",
      "source": [
        "ct = ColumnTransformer(transformers=[('encoder',OneHotEncoder(), [1])], remainder= 'passthrough')\n",
        "X = np.array(ct.fit_transform(X))"
      ],
      "metadata": {
        "id": "J_kOn-II-JD7"
      },
      "execution_count": 24,
      "outputs": []
    },
    {
      "cell_type": "code",
      "source": [
        "print(X)"
      ],
      "metadata": {
        "colab": {
          "base_uri": "https://localhost:8080/"
        },
        "id": "FGJ21N7I-pd_",
        "outputId": "3c48cc9e-2267-422d-a75a-e087df2ddf70"
      },
      "execution_count": 25,
      "outputs": [
        {
          "output_type": "stream",
          "name": "stdout",
          "text": [
            "[[0.0 0.0 1.0 10.0 'no' 'no' 97.0]\n",
            " [0.0 0.0 1.0 12.0 'no' 'no' 97.0]\n",
            " [0.0 0.0 1.0 15.0 'no' 'no' 94.0]\n",
            " [0.0 0.0 1.0 10.0 'no' 'no' 97.0]\n",
            " [0.0 1.0 0.0 13.0 'no' 'no' 94.0]\n",
            " [0.0 1.0 0.0 12.0 'no' 'no' 97.0]\n",
            " [0.0 1.0 0.0 13.0 'no' 'no' 93.0]\n",
            " [0.0 1.0 0.0 15.0 'no' 'no' 92.0]\n",
            " [0.0 1.0 0.0 18.0 'no' 'no' 66.0]\n",
            " [0.0 0.0 1.0 19.0 'no' 'no' 92.0]\n",
            " [0.0 0.0 1.0 20.0 'no' 'no' 93.0]\n",
            " [0.0 0.0 1.0 17.0 'no' 'no' 93.0]\n",
            " [0.0 0.0 1.0 16.0 'no' 'no' 92.0]\n",
            " [0.0 0.0 1.0 18.0 'no' 'no' 93.0]\n",
            " [0.0 0.0 1.0 20.0 'no' 'no' 92.0]\n",
            " [0.0 1.0 0.0 25.0 'no' 'no' 93.0]\n",
            " [0.0 1.0 0.0 24.0 'no' 'no' 92.0]\n",
            " [1.0 0.0 0.0 26.0 'no' 'no' 94.0]\n",
            " [0.0 0.0 1.0 28.0 'no' 'no' 99.0]\n",
            " [0.0 0.0 1.0 29.0 'no' 'no' 93.0]\n",
            " [0.0 1.0 0.0 30.0 'no' 'no' 62.0]\n",
            " [0.0 0.0 1.0 19.0 'no' 'no' 89.0]\n",
            " [0.0 0.0 1.0 25.0 'no' 'yes' 86.0]\n",
            " [0.0 0.0 1.0 26.0 'no' 'no' 82.07246376811594]\n",
            " [0.0 0.0 1.0 28.0 'no' 'no' 89.0]\n",
            " [0.0 1.0 0.0 30.0 'yes' 'no' 86.0]\n",
            " [0.0 1.0 0.0 35.0 'no' 'no' 89.0]\n",
            " [0.0 1.0 0.0 32.0 'no' 'yes' 84.0]\n",
            " [0.0 1.0 0.0 45.130434782608695 'yes' 'no' 90.0]\n",
            " [0.0 1.0 0.0 32.0 'no' 'no' 89.0]\n",
            " [0.0 1.0 0.0 35.0 'no' 'yes' 92.0]\n",
            " [1.0 0.0 0.0 38.0 'no' 'no' 75.0]\n",
            " [0.0 1.0 0.0 40.0 'no' 'yes' 90.0]\n",
            " [1.0 0.0 0.0 46.0 'yes' 'no' 91.0]\n",
            " [0.0 1.0 0.0 48.0 'no' 'yes' 93.0]\n",
            " [1.0 0.0 0.0 42.0 'no' 'no' 92.0]\n",
            " [1.0 0.0 0.0 40.0 'no' 'no' 92.0]\n",
            " [0.0 1.0 0.0 49.0 'no' 'no' 80.0]\n",
            " [1.0 0.0 0.0 50.0 'yes' 'yes' 77.0]\n",
            " [1.0 0.0 0.0 36.0 'yes' 'no' 90.0]\n",
            " [1.0 0.0 0.0 52.0 'yes' 'yes' 80.0]\n",
            " [1.0 0.0 0.0 56.0 'yes' 'yes' 77.0]\n",
            " [1.0 0.0 0.0 58.0 'no' 'no' 70.0]\n",
            " [1.0 0.0 0.0 59.0 'no' 'yes' 69.0]\n",
            " [1.0 0.0 0.0 60.0 'yes' 'yes' 68.0]\n",
            " [1.0 0.0 0.0 53.0 'yes' 'no' 55.0]\n",
            " [1.0 0.0 0.0 54.0 'yes' 'yes' 70.0]\n",
            " [1.0 0.0 0.0 62.0 'yes' 'yes' 68.0]\n",
            " [1.0 0.0 0.0 63.0 'yes' 'yes' 66.0]\n",
            " [1.0 0.0 0.0 68.0 'yes' 'no' 67.0]\n",
            " [1.0 0.0 0.0 69.0 'no' 'yes' 53.0]\n",
            " [1.0 0.0 0.0 64.0 'yes' 'yes' 73.0]\n",
            " [1.0 0.0 0.0 61.0 'yes' 'yes' 76.0]\n",
            " [0.0 0.0 1.0 70.0 'no' 'yes' 88.0]\n",
            " [1.0 0.0 0.0 59.0 'yes' 'no' 68.0]\n",
            " [1.0 0.0 0.0 62.0 'yes' 'yes' 69.0]\n",
            " [1.0 0.0 0.0 78.0 'yes' 'yes' 71.0]\n",
            " [1.0 0.0 0.0 74.0 'yes' 'yes' 75.0]\n",
            " [1.0 0.0 0.0 75.0 'no' 'yes' 72.0]\n",
            " [1.0 0.0 0.0 56.0 'yes' 'no' 76.0]\n",
            " [1.0 0.0 0.0 80.0 'no' 'yes' 92.0]\n",
            " [1.0 0.0 0.0 82.0 'yes' 'yes' 73.0]\n",
            " [1.0 0.0 0.0 86.0 'yes' 'yes' 71.0]\n",
            " [1.0 0.0 0.0 90.0 'yes' 'yes' 67.0]\n",
            " [1.0 0.0 0.0 84.0 'yes' 'yes' 75.0]\n",
            " [1.0 0.0 0.0 86.0 'no' 'yes' 76.0]\n",
            " [0.0 1.0 0.0 61.0 'no' 'yes' 90.0]\n",
            " [1.0 0.0 0.0 94.0 'yes' 'yes' 64.0]\n",
            " [1.0 0.0 0.0 81.0 'yes' 'yes' 75.0]\n",
            " [1.0 0.0 0.0 76.0 'yes' 'yes' 80.0]]\n"
          ]
        }
      ]
    },
    {
      "cell_type": "code",
      "source": [
        "from sklearn.preprocessing import LabelEncoder\n",
        "le = LabelEncoder()\n",
        "y = le.fit_transform(y)"
      ],
      "metadata": {
        "id": "qx6QsBnJ-qtj"
      },
      "execution_count": 26,
      "outputs": []
    },
    {
      "cell_type": "code",
      "source": [
        "print(y)"
      ],
      "metadata": {
        "colab": {
          "base_uri": "https://localhost:8080/"
        },
        "id": "val4VmcB-uwd",
        "outputId": "461c878c-6dc6-4b4f-dcce-7100b086b96b"
      },
      "execution_count": 27,
      "outputs": [
        {
          "output_type": "stream",
          "name": "stdout",
          "text": [
            "[0 0 0 0 0 0 0 0 1 0 0 0 0 0 0 0 0 0 0 0 1 0 0 0 0 0 0 0 0 0 0 1 0 0 0 0 0\n",
            " 1 1 0 1 1 1 1 1 1 1 1 1 1 1 1 1 0 1 1 1 1 1 1 0 1 1 1 1 1 0 1 1 1]\n"
          ]
        }
      ]
    },
    {
      "cell_type": "code",
      "source": [
        "from sklearn.model_selection import train_test_split\n",
        "X_train, X_test, y_train, y_test = train_test_split(X, y, test_size = 0.2, random_state = 42)"
      ],
      "metadata": {
        "id": "5w4XaiFv-ygX"
      },
      "execution_count": 28,
      "outputs": []
    },
    {
      "cell_type": "code",
      "source": [
        "print(X_train)"
      ],
      "metadata": {
        "colab": {
          "base_uri": "https://localhost:8080/"
        },
        "id": "6f4dTev1-yjW",
        "outputId": "84839297-488d-4681-cfbd-3d398c5e280b"
      },
      "execution_count": 29,
      "outputs": [
        {
          "output_type": "stream",
          "name": "stdout",
          "text": [
            "[[1.0 0.0 0.0 86.0 'yes' 'yes' 71.0]\n",
            " [0.0 1.0 0.0 35.0 'no' 'yes' 92.0]\n",
            " [1.0 0.0 0.0 75.0 'no' 'yes' 72.0]\n",
            " [1.0 0.0 0.0 42.0 'no' 'no' 92.0]\n",
            " [1.0 0.0 0.0 74.0 'yes' 'yes' 75.0]\n",
            " [1.0 0.0 0.0 62.0 'yes' 'yes' 68.0]\n",
            " [0.0 1.0 0.0 24.0 'no' 'no' 92.0]\n",
            " [0.0 1.0 0.0 48.0 'no' 'yes' 93.0]\n",
            " [1.0 0.0 0.0 58.0 'no' 'no' 70.0]\n",
            " [0.0 1.0 0.0 45.130434782608695 'yes' 'no' 90.0]\n",
            " [0.0 1.0 0.0 15.0 'no' 'no' 92.0]\n",
            " [0.0 0.0 1.0 70.0 'no' 'yes' 88.0]\n",
            " [1.0 0.0 0.0 52.0 'yes' 'yes' 80.0]\n",
            " [1.0 0.0 0.0 60.0 'yes' 'yes' 68.0]\n",
            " [1.0 0.0 0.0 54.0 'yes' 'yes' 70.0]\n",
            " [0.0 0.0 1.0 29.0 'no' 'no' 93.0]\n",
            " [1.0 0.0 0.0 78.0 'yes' 'yes' 71.0]\n",
            " [1.0 0.0 0.0 36.0 'yes' 'no' 90.0]\n",
            " [0.0 1.0 0.0 30.0 'yes' 'no' 86.0]\n",
            " [1.0 0.0 0.0 50.0 'yes' 'yes' 77.0]\n",
            " [0.0 0.0 1.0 18.0 'no' 'no' 93.0]\n",
            " [1.0 0.0 0.0 69.0 'no' 'yes' 53.0]\n",
            " [0.0 0.0 1.0 10.0 'no' 'no' 97.0]\n",
            " [1.0 0.0 0.0 26.0 'no' 'no' 94.0]\n",
            " [0.0 1.0 0.0 18.0 'no' 'no' 66.0]\n",
            " [1.0 0.0 0.0 62.0 'yes' 'yes' 69.0]\n",
            " [0.0 1.0 0.0 13.0 'no' 'no' 93.0]\n",
            " [1.0 0.0 0.0 40.0 'no' 'no' 92.0]\n",
            " [1.0 0.0 0.0 84.0 'yes' 'yes' 75.0]\n",
            " [1.0 0.0 0.0 76.0 'yes' 'yes' 80.0]\n",
            " [1.0 0.0 0.0 81.0 'yes' 'yes' 75.0]\n",
            " [0.0 1.0 0.0 25.0 'no' 'no' 93.0]\n",
            " [0.0 1.0 0.0 32.0 'no' 'yes' 84.0]\n",
            " [1.0 0.0 0.0 56.0 'yes' 'yes' 77.0]\n",
            " [0.0 1.0 0.0 35.0 'no' 'no' 89.0]\n",
            " [1.0 0.0 0.0 63.0 'yes' 'yes' 66.0]\n",
            " [0.0 0.0 1.0 28.0 'no' 'no' 89.0]\n",
            " [1.0 0.0 0.0 56.0 'yes' 'no' 76.0]\n",
            " [1.0 0.0 0.0 90.0 'yes' 'yes' 67.0]\n",
            " [0.0 0.0 1.0 17.0 'no' 'no' 93.0]\n",
            " [0.0 1.0 0.0 40.0 'no' 'yes' 90.0]\n",
            " [0.0 1.0 0.0 61.0 'no' 'yes' 90.0]\n",
            " [1.0 0.0 0.0 82.0 'yes' 'yes' 73.0]\n",
            " [0.0 1.0 0.0 49.0 'no' 'no' 80.0]\n",
            " [0.0 1.0 0.0 32.0 'no' 'no' 89.0]\n",
            " [1.0 0.0 0.0 59.0 'no' 'yes' 69.0]\n",
            " [1.0 0.0 0.0 86.0 'no' 'yes' 76.0]\n",
            " [0.0 0.0 1.0 12.0 'no' 'no' 97.0]\n",
            " [1.0 0.0 0.0 61.0 'yes' 'yes' 76.0]\n",
            " [0.0 0.0 1.0 19.0 'no' 'no' 89.0]\n",
            " [0.0 0.0 1.0 15.0 'no' 'no' 94.0]\n",
            " [0.0 0.0 1.0 26.0 'no' 'no' 82.07246376811594]\n",
            " [0.0 1.0 0.0 30.0 'no' 'no' 62.0]\n",
            " [1.0 0.0 0.0 80.0 'no' 'yes' 92.0]\n",
            " [0.0 0.0 1.0 20.0 'no' 'no' 92.0]\n",
            " [1.0 0.0 0.0 64.0 'yes' 'yes' 73.0]]\n"
          ]
        }
      ]
    },
    {
      "cell_type": "code",
      "source": [
        "print(X_test)"
      ],
      "metadata": {
        "colab": {
          "base_uri": "https://localhost:8080/"
        },
        "id": "lYg9AS3K-yl9",
        "outputId": "fe1c2f31-83a9-46b1-d0e0-f9c2df96de19"
      },
      "execution_count": 30,
      "outputs": [
        {
          "output_type": "stream",
          "name": "stdout",
          "text": [
            "[[0.0 0.0 1.0 25.0 'no' 'yes' 86.0]\n",
            " [0.0 0.0 1.0 10.0 'no' 'no' 97.0]\n",
            " [1.0 0.0 0.0 68.0 'yes' 'no' 67.0]\n",
            " [0.0 1.0 0.0 13.0 'no' 'no' 94.0]\n",
            " [1.0 0.0 0.0 59.0 'yes' 'no' 68.0]\n",
            " [0.0 0.0 1.0 28.0 'no' 'no' 99.0]\n",
            " [0.0 0.0 1.0 20.0 'no' 'no' 93.0]\n",
            " [1.0 0.0 0.0 46.0 'yes' 'no' 91.0]\n",
            " [1.0 0.0 0.0 53.0 'yes' 'no' 55.0]\n",
            " [0.0 0.0 1.0 16.0 'no' 'no' 92.0]\n",
            " [1.0 0.0 0.0 38.0 'no' 'no' 75.0]\n",
            " [0.0 0.0 1.0 19.0 'no' 'no' 92.0]\n",
            " [1.0 0.0 0.0 94.0 'yes' 'yes' 64.0]\n",
            " [0.0 1.0 0.0 12.0 'no' 'no' 97.0]]\n"
          ]
        }
      ]
    },
    {
      "cell_type": "code",
      "source": [
        "print(y_train)"
      ],
      "metadata": {
        "colab": {
          "base_uri": "https://localhost:8080/"
        },
        "id": "H6PHQuct-yoj",
        "outputId": "89f2c224-7765-4470-9fad-980a73b43e1a"
      },
      "execution_count": 31,
      "outputs": [
        {
          "output_type": "stream",
          "name": "stdout",
          "text": [
            "[1 0 1 0 1 1 0 0 1 0 0 0 1 1 1 0 1 0 0 1 0 1 0 0 1 1 0 0 1 1 1 0 0 1 0 1 0\n",
            " 1 1 0 0 0 1 1 0 1 1 0 1 0 0 0 1 0 0 1]\n"
          ]
        }
      ]
    },
    {
      "cell_type": "code",
      "source": [
        "print(y_test)"
      ],
      "metadata": {
        "colab": {
          "base_uri": "https://localhost:8080/"
        },
        "id": "7_Opyehd_Esy",
        "outputId": "e1afb816-ae90-4047-c7f7-ded160618ad4"
      },
      "execution_count": 32,
      "outputs": [
        {
          "output_type": "stream",
          "name": "stdout",
          "text": [
            "[0 0 1 0 1 0 0 0 1 0 1 0 1 0]\n"
          ]
        }
      ]
    },
    {
      "cell_type": "code",
      "source": [
        "from sklearn.preprocessing import StandardScaler\n",
        "sc = StandardScaler()\n",
        "X_train[:, 6:] = sc.fit_transform(X_train[:, 6:])\n",
        "X_test[:, 6:] = sc.fit_transform(X_test[:, 6:])"
      ],
      "metadata": {
        "id": "e6f0DIPL_JAm"
      },
      "execution_count": 33,
      "outputs": []
    },
    {
      "cell_type": "code",
      "source": [
        "print(X_train)"
      ],
      "metadata": {
        "colab": {
          "base_uri": "https://localhost:8080/"
        },
        "id": "w_ThqYj0_OO_",
        "outputId": "64e1a2d5-df7b-48a8-e3ef-5fccc43a0a43"
      },
      "execution_count": 34,
      "outputs": [
        {
          "output_type": "stream",
          "name": "stdout",
          "text": [
            "[[1.0 0.0 0.0 86.0 'yes' 'yes' -0.9941858494300261]\n",
            " [0.0 1.0 0.0 35.0 'no' 'yes' 0.9574354145081887]\n",
            " [1.0 0.0 0.0 75.0 'no' 'yes' -0.9012515035282064]\n",
            " [1.0 0.0 0.0 42.0 'no' 'no' 0.9574354145081887]\n",
            " [1.0 0.0 0.0 74.0 'yes' 'yes' -0.6224484658227472]\n",
            " [1.0 0.0 0.0 62.0 'yes' 'yes' -1.2729888871354853]\n",
            " [0.0 1.0 0.0 24.0 'no' 'no' 0.9574354145081887]\n",
            " [0.0 1.0 0.0 48.0 'no' 'yes' 1.0503697604100084]\n",
            " [1.0 0.0 0.0 58.0 'no' 'no' -1.087120195331846]\n",
            " [0.0 1.0 0.0 45.130434782608695 'yes' 'no' 0.7715667227045492]\n",
            " [0.0 1.0 0.0 15.0 'no' 'no' 0.9574354145081887]\n",
            " [0.0 0.0 1.0 70.0 'no' 'yes' 0.5856980309009097]\n",
            " [1.0 0.0 0.0 52.0 'yes' 'yes' -0.15777673631364833]\n",
            " [1.0 0.0 0.0 60.0 'yes' 'yes' -1.2729888871354853]\n",
            " [1.0 0.0 0.0 54.0 'yes' 'yes' -1.087120195331846]\n",
            " [0.0 0.0 1.0 29.0 'no' 'no' 1.0503697604100084]\n",
            " [1.0 0.0 0.0 78.0 'yes' 'yes' -0.9941858494300261]\n",
            " [1.0 0.0 0.0 36.0 'yes' 'no' 0.7715667227045492]\n",
            " [0.0 1.0 0.0 30.0 'yes' 'no' 0.3998293390972702]\n",
            " [1.0 0.0 0.0 50.0 'yes' 'yes' -0.4365797740191076]\n",
            " [0.0 0.0 1.0 18.0 'no' 'no' 1.0503697604100084]\n",
            " [1.0 0.0 0.0 69.0 'no' 'yes' -2.6670040756627817]\n",
            " [0.0 0.0 1.0 10.0 'no' 'no' 1.4221071440172874]\n",
            " [1.0 0.0 0.0 26.0 'no' 'no' 1.143304106311828]\n",
            " [0.0 1.0 0.0 18.0 'no' 'no' -1.458857578939125]\n",
            " [1.0 0.0 0.0 62.0 'yes' 'yes' -1.1800545412336656]\n",
            " [0.0 1.0 0.0 13.0 'no' 'no' 1.0503697604100084]\n",
            " [1.0 0.0 0.0 40.0 'no' 'no' 0.9574354145081887]\n",
            " [1.0 0.0 0.0 84.0 'yes' 'yes' -0.6224484658227472]\n",
            " [1.0 0.0 0.0 76.0 'yes' 'yes' -0.15777673631364833]\n",
            " [1.0 0.0 0.0 81.0 'yes' 'yes' -0.6224484658227472]\n",
            " [0.0 1.0 0.0 25.0 'no' 'no' 1.0503697604100084]\n",
            " [0.0 1.0 0.0 32.0 'no' 'yes' 0.21396064729363068]\n",
            " [1.0 0.0 0.0 56.0 'yes' 'yes' -0.4365797740191076]\n",
            " [0.0 1.0 0.0 35.0 'no' 'no' 0.6786323768027295]\n",
            " [1.0 0.0 0.0 63.0 'yes' 'yes' -1.458857578939125]\n",
            " [0.0 0.0 1.0 28.0 'no' 'no' 0.6786323768027295]\n",
            " [1.0 0.0 0.0 56.0 'yes' 'no' -0.5295141199209273]\n",
            " [1.0 0.0 0.0 90.0 'yes' 'yes' -1.3659232330373052]\n",
            " [0.0 0.0 1.0 17.0 'no' 'no' 1.0503697604100084]\n",
            " [0.0 1.0 0.0 40.0 'no' 'yes' 0.7715667227045492]\n",
            " [0.0 1.0 0.0 61.0 'no' 'yes' 0.7715667227045492]\n",
            " [1.0 0.0 0.0 82.0 'yes' 'yes' -0.8083171576263867]\n",
            " [0.0 1.0 0.0 49.0 'no' 'no' -0.15777673631364833]\n",
            " [0.0 1.0 0.0 32.0 'no' 'no' 0.6786323768027295]\n",
            " [1.0 0.0 0.0 59.0 'no' 'yes' -1.1800545412336656]\n",
            " [1.0 0.0 0.0 86.0 'no' 'yes' -0.5295141199209273]\n",
            " [0.0 0.0 1.0 12.0 'no' 'no' 1.4221071440172874]\n",
            " [1.0 0.0 0.0 61.0 'yes' 'yes' -0.5295141199209273]\n",
            " [0.0 0.0 1.0 19.0 'no' 'no' 0.6786323768027295]\n",
            " [0.0 0.0 1.0 15.0 'no' 'no' 1.143304106311828]\n",
            " [0.0 0.0 1.0 26.0 'no' 'no' 0.034826328381427]\n",
            " [0.0 1.0 0.0 30.0 'no' 'no' -1.830594962546404]\n",
            " [1.0 0.0 0.0 80.0 'no' 'yes' 0.9574354145081887]\n",
            " [0.0 0.0 1.0 20.0 'no' 'no' 0.9574354145081887]\n",
            " [1.0 0.0 0.0 64.0 'yes' 'yes' -0.8083171576263867]]\n"
          ]
        }
      ]
    },
    {
      "cell_type": "code",
      "source": [
        "import numpy as np\n",
        "import pandas as pd\n",
        "import tensorflow as tf"
      ],
      "metadata": {
        "id": "imxZWUd2_RNR"
      },
      "execution_count": 35,
      "outputs": []
    },
    {
      "cell_type": "code",
      "source": [
        "tf.__version__"
      ],
      "metadata": {
        "colab": {
          "base_uri": "https://localhost:8080/",
          "height": 35
        },
        "id": "0_xJ_DWJ_XeI",
        "outputId": "2db431b8-b2ab-4be0-faab-80b93f373021"
      },
      "execution_count": 36,
      "outputs": [
        {
          "output_type": "execute_result",
          "data": {
            "text/plain": [
              "'2.13.0'"
            ],
            "application/vnd.google.colaboratory.intrinsic+json": {
              "type": "string"
            }
          },
          "metadata": {},
          "execution_count": 36
        }
      ]
    },
    {
      "cell_type": "code",
      "source": [
        "dataset = pd.read_csv('American Express User Exit Prediction.csv')\n",
        "X = dataset.iloc[:, 0:-1].values\n",
        "y = dataset.iloc[:, -1].values"
      ],
      "metadata": {
        "id": "nNFcDDqe_XoE"
      },
      "execution_count": 37,
      "outputs": []
    },
    {
      "cell_type": "code",
      "source": [
        "print(X)"
      ],
      "metadata": {
        "colab": {
          "base_uri": "https://localhost:8080/"
        },
        "id": "0m6kM3fh_Xqo",
        "outputId": "dd3107ae-16b2-45f8-99ba-bfb0c54718ec"
      },
      "execution_count": 38,
      "outputs": [
        {
          "output_type": "stream",
          "name": "stdout",
          "text": [
            "[[553 'Delhi' 'Female' ... 4 1 274150]\n",
            " [447 'Bengaluru' 'Male' ... 4 1 519360]\n",
            " [501 'Delhi' 'Female' ... 4 1 545501]\n",
            " ...\n",
            " [627 'Mumbai' 'Female' ... 4 0 494067]\n",
            " [600 'Bengaluru' 'Female' ... 2 1 109375]\n",
            " [553 'Delhi' 'Male' ... 4 1 180031]]\n"
          ]
        }
      ]
    },
    {
      "cell_type": "code",
      "source": [
        "from sklearn.preprocessing import LabelEncoder\n",
        "label_encoder = LabelEncoder()\n",
        "X[:, 2] = label_encoder.fit_transform(X[:, 2])"
      ],
      "metadata": {
        "id": "lzcx9DC7_Xtc"
      },
      "execution_count": 39,
      "outputs": []
    },
    {
      "cell_type": "code",
      "source": [
        "print(X)"
      ],
      "metadata": {
        "colab": {
          "base_uri": "https://localhost:8080/"
        },
        "id": "xQnsJ_YY_XwE",
        "outputId": "d354d9ed-26ad-48a6-9274-a9cfb32cbea5"
      },
      "execution_count": 40,
      "outputs": [
        {
          "output_type": "stream",
          "name": "stdout",
          "text": [
            "[[553 'Delhi' 0 ... 4 1 274150]\n",
            " [447 'Bengaluru' 1 ... 4 1 519360]\n",
            " [501 'Delhi' 0 ... 4 1 545501]\n",
            " ...\n",
            " [627 'Mumbai' 0 ... 4 0 494067]\n",
            " [600 'Bengaluru' 0 ... 2 1 109375]\n",
            " [553 'Delhi' 1 ... 4 1 180031]]\n"
          ]
        }
      ]
    },
    {
      "cell_type": "code",
      "source": [
        "from sklearn.compose import ColumnTransformer\n",
        "from sklearn.preprocessing import OneHotEncoder\n",
        "ct = ColumnTransformer(transformers=[('encoder', OneHotEncoder(), [1])], remainder='passthrough')\n",
        "X = np.array(ct.fit_transform(X))"
      ],
      "metadata": {
        "id": "fIn2pKfW_XzT"
      },
      "execution_count": 41,
      "outputs": []
    },
    {
      "cell_type": "code",
      "source": [
        "print(X)"
      ],
      "metadata": {
        "colab": {
          "base_uri": "https://localhost:8080/"
        },
        "id": "BX4Mcou9_8vi",
        "outputId": "e654d278-202f-4216-a461-e8d14a6328be"
      },
      "execution_count": 42,
      "outputs": [
        {
          "output_type": "stream",
          "name": "stdout",
          "text": [
            "[[0.0 1.0 0.0 ... 4 1 274150]\n",
            " [1.0 0.0 0.0 ... 4 1 519360]\n",
            " [0.0 1.0 0.0 ... 4 1 545501]\n",
            " ...\n",
            " [0.0 0.0 1.0 ... 4 0 494067]\n",
            " [1.0 0.0 0.0 ... 2 1 109375]\n",
            " [0.0 1.0 0.0 ... 4 1 180031]]\n"
          ]
        }
      ]
    },
    {
      "cell_type": "code",
      "source": [
        "from sklearn.model_selection import train_test_split\n",
        "X_train, X_test, y_train, y_test = train_test_split(X, y, test_size = 0.2, random_state = 0)"
      ],
      "metadata": {
        "id": "7BhRAzhVAA5A"
      },
      "execution_count": 43,
      "outputs": []
    },
    {
      "cell_type": "code",
      "source": [
        "from sklearn.preprocessing import StandardScaler\n",
        "sc = StandardScaler()\n",
        "X_train = sc.fit_transform(X_train)\n",
        "X_test = sc.transform(X_test)"
      ],
      "metadata": {
        "id": "L-VH_MZLAC6i"
      },
      "execution_count": 44,
      "outputs": []
    },
    {
      "cell_type": "code",
      "source": [
        "ann = tf.keras.models.Sequential()"
      ],
      "metadata": {
        "id": "_1UlbHh8AC9E"
      },
      "execution_count": 45,
      "outputs": []
    },
    {
      "cell_type": "code",
      "source": [
        "ann.add(tf.keras.layers.Dense(units=6, activation='relu'))"
      ],
      "metadata": {
        "id": "4db-cCiPADAX"
      },
      "execution_count": 47,
      "outputs": []
    },
    {
      "cell_type": "code",
      "source": [
        "ann.add(tf.keras.layers.Dense(units=6, activation='relu'))"
      ],
      "metadata": {
        "id": "VxtvflVTAWQJ"
      },
      "execution_count": 48,
      "outputs": []
    },
    {
      "cell_type": "code",
      "source": [
        "ann.add(tf.keras.layers.Dense(units=1, activation='sigmoid'))"
      ],
      "metadata": {
        "id": "aQe8Ab-XAaEO"
      },
      "execution_count": 49,
      "outputs": []
    },
    {
      "cell_type": "code",
      "source": [
        "ann.compile(optimizer = 'adam', loss = 'binary_crossentropy', metrics = ['accuracy'])"
      ],
      "metadata": {
        "id": "7Dlg5HkbAoQ-"
      },
      "execution_count": 50,
      "outputs": []
    },
    {
      "cell_type": "code",
      "source": [
        "ann.fit(X_train, y_train, batch_size = 32, epochs = 120)"
      ],
      "metadata": {
        "colab": {
          "base_uri": "https://localhost:8080/"
        },
        "id": "zpG9DgFdAoZY",
        "outputId": "f8ae93e4-9c1a-4691-89fe-2b575fc65652"
      },
      "execution_count": 51,
      "outputs": [
        {
          "output_type": "stream",
          "name": "stdout",
          "text": [
            "Epoch 1/120\n",
            "249/249 [==============================] - 2s 2ms/step - loss: 0.8280 - accuracy: 0.4321\n",
            "Epoch 2/120\n",
            "249/249 [==============================] - 0s 2ms/step - loss: 0.5372 - accuracy: 0.7925\n",
            "Epoch 3/120\n",
            "249/249 [==============================] - 1s 3ms/step - loss: 0.4888 - accuracy: 0.7949\n",
            "Epoch 4/120\n",
            "249/249 [==============================] - 1s 3ms/step - loss: 0.4643 - accuracy: 0.7921\n",
            "Epoch 5/120\n",
            "249/249 [==============================] - 1s 3ms/step - loss: 0.4459 - accuracy: 0.7942\n",
            "Epoch 6/120\n",
            "249/249 [==============================] - 1s 3ms/step - loss: 0.4322 - accuracy: 0.8019\n",
            "Epoch 7/120\n",
            "249/249 [==============================] - 1s 2ms/step - loss: 0.4210 - accuracy: 0.8096\n",
            "Epoch 8/120\n",
            "249/249 [==============================] - 0s 2ms/step - loss: 0.4123 - accuracy: 0.8168\n",
            "Epoch 9/120\n",
            "249/249 [==============================] - 0s 2ms/step - loss: 0.4060 - accuracy: 0.8200\n",
            "Epoch 10/120\n",
            "249/249 [==============================] - 0s 2ms/step - loss: 0.4014 - accuracy: 0.8228\n",
            "Epoch 11/120\n",
            "249/249 [==============================] - 0s 2ms/step - loss: 0.3975 - accuracy: 0.8241\n",
            "Epoch 12/120\n",
            "249/249 [==============================] - 0s 2ms/step - loss: 0.3944 - accuracy: 0.8268\n",
            "Epoch 13/120\n",
            "249/249 [==============================] - 0s 2ms/step - loss: 0.3919 - accuracy: 0.8268\n",
            "Epoch 14/120\n",
            "249/249 [==============================] - 0s 2ms/step - loss: 0.3892 - accuracy: 0.8308\n",
            "Epoch 15/120\n",
            "249/249 [==============================] - 0s 2ms/step - loss: 0.3862 - accuracy: 0.8335\n",
            "Epoch 16/120\n",
            "249/249 [==============================] - 0s 2ms/step - loss: 0.3836 - accuracy: 0.8370\n",
            "Epoch 17/120\n",
            "249/249 [==============================] - 0s 2ms/step - loss: 0.3809 - accuracy: 0.8394\n",
            "Epoch 18/120\n",
            "249/249 [==============================] - 0s 2ms/step - loss: 0.3785 - accuracy: 0.8384\n",
            "Epoch 19/120\n",
            "249/249 [==============================] - 0s 2ms/step - loss: 0.3763 - accuracy: 0.8420\n",
            "Epoch 20/120\n",
            "249/249 [==============================] - 0s 2ms/step - loss: 0.3738 - accuracy: 0.8416\n",
            "Epoch 21/120\n",
            "249/249 [==============================] - 0s 2ms/step - loss: 0.3715 - accuracy: 0.8417\n",
            "Epoch 22/120\n",
            "249/249 [==============================] - 0s 2ms/step - loss: 0.3698 - accuracy: 0.8442\n",
            "Epoch 23/120\n",
            "249/249 [==============================] - 0s 2ms/step - loss: 0.3682 - accuracy: 0.8427\n",
            "Epoch 24/120\n",
            "249/249 [==============================] - 1s 2ms/step - loss: 0.3667 - accuracy: 0.8452\n",
            "Epoch 25/120\n",
            "249/249 [==============================] - 0s 2ms/step - loss: 0.3654 - accuracy: 0.8469\n",
            "Epoch 26/120\n",
            "249/249 [==============================] - 0s 2ms/step - loss: 0.3643 - accuracy: 0.8475\n",
            "Epoch 27/120\n",
            "249/249 [==============================] - 0s 2ms/step - loss: 0.3637 - accuracy: 0.8471\n",
            "Epoch 28/120\n",
            "249/249 [==============================] - 1s 2ms/step - loss: 0.3624 - accuracy: 0.8476\n",
            "Epoch 29/120\n",
            "249/249 [==============================] - 1s 2ms/step - loss: 0.3614 - accuracy: 0.8467\n",
            "Epoch 30/120\n",
            "249/249 [==============================] - 1s 2ms/step - loss: 0.3605 - accuracy: 0.8476\n",
            "Epoch 31/120\n",
            "249/249 [==============================] - 1s 3ms/step - loss: 0.3598 - accuracy: 0.8483\n",
            "Epoch 32/120\n",
            "249/249 [==============================] - 1s 3ms/step - loss: 0.3592 - accuracy: 0.8478\n",
            "Epoch 33/120\n",
            "249/249 [==============================] - 1s 2ms/step - loss: 0.3584 - accuracy: 0.8478\n",
            "Epoch 34/120\n",
            "249/249 [==============================] - 1s 2ms/step - loss: 0.3576 - accuracy: 0.8476\n",
            "Epoch 35/120\n",
            "249/249 [==============================] - 0s 2ms/step - loss: 0.3581 - accuracy: 0.8483\n",
            "Epoch 36/120\n",
            "249/249 [==============================] - 0s 2ms/step - loss: 0.3573 - accuracy: 0.8476\n",
            "Epoch 37/120\n",
            "249/249 [==============================] - 0s 2ms/step - loss: 0.3569 - accuracy: 0.8465\n",
            "Epoch 38/120\n",
            "249/249 [==============================] - 0s 2ms/step - loss: 0.3563 - accuracy: 0.8479\n",
            "Epoch 39/120\n",
            "249/249 [==============================] - 0s 2ms/step - loss: 0.3560 - accuracy: 0.8483\n",
            "Epoch 40/120\n",
            "249/249 [==============================] - 0s 2ms/step - loss: 0.3557 - accuracy: 0.8489\n",
            "Epoch 41/120\n",
            "249/249 [==============================] - 0s 2ms/step - loss: 0.3555 - accuracy: 0.8479\n",
            "Epoch 42/120\n",
            "249/249 [==============================] - 0s 2ms/step - loss: 0.3557 - accuracy: 0.8485\n",
            "Epoch 43/120\n",
            "249/249 [==============================] - 0s 2ms/step - loss: 0.3551 - accuracy: 0.8500\n",
            "Epoch 44/120\n",
            "249/249 [==============================] - 0s 2ms/step - loss: 0.3548 - accuracy: 0.8490\n",
            "Epoch 45/120\n",
            "249/249 [==============================] - 0s 2ms/step - loss: 0.3549 - accuracy: 0.8491\n",
            "Epoch 46/120\n",
            "249/249 [==============================] - 0s 2ms/step - loss: 0.3547 - accuracy: 0.8498\n",
            "Epoch 47/120\n",
            "249/249 [==============================] - 0s 2ms/step - loss: 0.3547 - accuracy: 0.8479\n",
            "Epoch 48/120\n",
            "249/249 [==============================] - 0s 2ms/step - loss: 0.3544 - accuracy: 0.8494\n",
            "Epoch 49/120\n",
            "249/249 [==============================] - 0s 2ms/step - loss: 0.3540 - accuracy: 0.8494\n",
            "Epoch 50/120\n",
            "249/249 [==============================] - 0s 2ms/step - loss: 0.3542 - accuracy: 0.8478\n",
            "Epoch 51/120\n",
            "249/249 [==============================] - 0s 2ms/step - loss: 0.3542 - accuracy: 0.8501\n",
            "Epoch 52/120\n",
            "249/249 [==============================] - 0s 2ms/step - loss: 0.3538 - accuracy: 0.8504\n",
            "Epoch 53/120\n",
            "249/249 [==============================] - 0s 2ms/step - loss: 0.3538 - accuracy: 0.8495\n",
            "Epoch 54/120\n",
            "249/249 [==============================] - 1s 2ms/step - loss: 0.3539 - accuracy: 0.8488\n",
            "Epoch 55/120\n",
            "249/249 [==============================] - 1s 3ms/step - loss: 0.3534 - accuracy: 0.8493\n",
            "Epoch 56/120\n",
            "249/249 [==============================] - 1s 3ms/step - loss: 0.3539 - accuracy: 0.8490\n",
            "Epoch 57/120\n",
            "249/249 [==============================] - 1s 3ms/step - loss: 0.3536 - accuracy: 0.8493\n",
            "Epoch 58/120\n",
            "249/249 [==============================] - 1s 3ms/step - loss: 0.3536 - accuracy: 0.8495\n",
            "Epoch 59/120\n",
            "249/249 [==============================] - 1s 2ms/step - loss: 0.3537 - accuracy: 0.8476\n",
            "Epoch 60/120\n",
            "249/249 [==============================] - 0s 2ms/step - loss: 0.3535 - accuracy: 0.8495\n",
            "Epoch 61/120\n",
            "249/249 [==============================] - 0s 2ms/step - loss: 0.3534 - accuracy: 0.8479\n",
            "Epoch 62/120\n",
            "249/249 [==============================] - 0s 2ms/step - loss: 0.3534 - accuracy: 0.8489\n",
            "Epoch 63/120\n",
            "249/249 [==============================] - 0s 2ms/step - loss: 0.3530 - accuracy: 0.8498\n",
            "Epoch 64/120\n",
            "249/249 [==============================] - 0s 2ms/step - loss: 0.3535 - accuracy: 0.8475\n",
            "Epoch 65/120\n",
            "249/249 [==============================] - 0s 2ms/step - loss: 0.3528 - accuracy: 0.8479\n",
            "Epoch 66/120\n",
            "249/249 [==============================] - 0s 2ms/step - loss: 0.3534 - accuracy: 0.8489\n",
            "Epoch 67/120\n",
            "249/249 [==============================] - 0s 2ms/step - loss: 0.3533 - accuracy: 0.8476\n",
            "Epoch 68/120\n",
            "249/249 [==============================] - 0s 2ms/step - loss: 0.3532 - accuracy: 0.8476\n",
            "Epoch 69/120\n",
            "249/249 [==============================] - 0s 2ms/step - loss: 0.3533 - accuracy: 0.8493\n",
            "Epoch 70/120\n",
            "249/249 [==============================] - 0s 2ms/step - loss: 0.3530 - accuracy: 0.8485\n",
            "Epoch 71/120\n",
            "249/249 [==============================] - 0s 2ms/step - loss: 0.3534 - accuracy: 0.8490\n",
            "Epoch 72/120\n",
            "249/249 [==============================] - 0s 2ms/step - loss: 0.3531 - accuracy: 0.8476\n",
            "Epoch 73/120\n",
            "249/249 [==============================] - 0s 2ms/step - loss: 0.3531 - accuracy: 0.8493\n",
            "Epoch 74/120\n",
            "249/249 [==============================] - 0s 2ms/step - loss: 0.3529 - accuracy: 0.8486\n",
            "Epoch 75/120\n",
            "249/249 [==============================] - 0s 2ms/step - loss: 0.3529 - accuracy: 0.8494\n",
            "Epoch 76/120\n",
            "249/249 [==============================] - 0s 2ms/step - loss: 0.3529 - accuracy: 0.8499\n",
            "Epoch 77/120\n",
            "249/249 [==============================] - 0s 2ms/step - loss: 0.3531 - accuracy: 0.8496\n",
            "Epoch 78/120\n",
            "249/249 [==============================] - 1s 2ms/step - loss: 0.3532 - accuracy: 0.8493\n",
            "Epoch 79/120\n",
            "249/249 [==============================] - 0s 2ms/step - loss: 0.3526 - accuracy: 0.8488\n",
            "Epoch 80/120\n",
            "249/249 [==============================] - 0s 2ms/step - loss: 0.3530 - accuracy: 0.8494\n",
            "Epoch 81/120\n",
            "249/249 [==============================] - 1s 3ms/step - loss: 0.3531 - accuracy: 0.8486\n",
            "Epoch 82/120\n",
            "249/249 [==============================] - 1s 3ms/step - loss: 0.3530 - accuracy: 0.8499\n",
            "Epoch 83/120\n",
            "249/249 [==============================] - 1s 3ms/step - loss: 0.3529 - accuracy: 0.8504\n",
            "Epoch 84/120\n",
            "249/249 [==============================] - 1s 3ms/step - loss: 0.3527 - accuracy: 0.8488\n",
            "Epoch 85/120\n",
            "249/249 [==============================] - 1s 2ms/step - loss: 0.3530 - accuracy: 0.8489\n",
            "Epoch 86/120\n",
            "249/249 [==============================] - 1s 2ms/step - loss: 0.3529 - accuracy: 0.8503\n",
            "Epoch 87/120\n",
            "249/249 [==============================] - 0s 2ms/step - loss: 0.3526 - accuracy: 0.8491\n",
            "Epoch 88/120\n",
            "249/249 [==============================] - 0s 2ms/step - loss: 0.3530 - accuracy: 0.8496\n",
            "Epoch 89/120\n",
            "249/249 [==============================] - 0s 2ms/step - loss: 0.3533 - accuracy: 0.8484\n",
            "Epoch 90/120\n",
            "249/249 [==============================] - 0s 2ms/step - loss: 0.3524 - accuracy: 0.8489\n",
            "Epoch 91/120\n",
            "249/249 [==============================] - 0s 2ms/step - loss: 0.3530 - accuracy: 0.8505\n",
            "Epoch 92/120\n",
            "249/249 [==============================] - 0s 2ms/step - loss: 0.3528 - accuracy: 0.8490\n",
            "Epoch 93/120\n",
            "249/249 [==============================] - 0s 2ms/step - loss: 0.3529 - accuracy: 0.8484\n",
            "Epoch 94/120\n",
            "249/249 [==============================] - 0s 2ms/step - loss: 0.3529 - accuracy: 0.8484\n",
            "Epoch 95/120\n",
            "249/249 [==============================] - 0s 2ms/step - loss: 0.3527 - accuracy: 0.8493\n",
            "Epoch 96/120\n",
            "249/249 [==============================] - 0s 2ms/step - loss: 0.3528 - accuracy: 0.8476\n",
            "Epoch 97/120\n",
            "249/249 [==============================] - 0s 2ms/step - loss: 0.3526 - accuracy: 0.8503\n",
            "Epoch 98/120\n",
            "249/249 [==============================] - 0s 2ms/step - loss: 0.3526 - accuracy: 0.8499\n",
            "Epoch 99/120\n",
            "249/249 [==============================] - 0s 2ms/step - loss: 0.3531 - accuracy: 0.8483\n",
            "Epoch 100/120\n",
            "249/249 [==============================] - 0s 2ms/step - loss: 0.3528 - accuracy: 0.8496\n",
            "Epoch 101/120\n",
            "249/249 [==============================] - 0s 2ms/step - loss: 0.3525 - accuracy: 0.8486\n",
            "Epoch 102/120\n",
            "249/249 [==============================] - 0s 2ms/step - loss: 0.3524 - accuracy: 0.8481\n",
            "Epoch 103/120\n",
            "249/249 [==============================] - 0s 2ms/step - loss: 0.3528 - accuracy: 0.8486\n",
            "Epoch 104/120\n",
            "249/249 [==============================] - 0s 2ms/step - loss: 0.3524 - accuracy: 0.8494\n",
            "Epoch 105/120\n",
            "249/249 [==============================] - 0s 2ms/step - loss: 0.3528 - accuracy: 0.8490\n",
            "Epoch 106/120\n",
            "249/249 [==============================] - 0s 2ms/step - loss: 0.3526 - accuracy: 0.8481\n",
            "Epoch 107/120\n",
            "249/249 [==============================] - 0s 2ms/step - loss: 0.3527 - accuracy: 0.8489\n",
            "Epoch 108/120\n",
            "249/249 [==============================] - 1s 2ms/step - loss: 0.3523 - accuracy: 0.8491\n",
            "Epoch 109/120\n",
            "249/249 [==============================] - 1s 3ms/step - loss: 0.3525 - accuracy: 0.8503\n",
            "Epoch 110/120\n",
            "249/249 [==============================] - 1s 3ms/step - loss: 0.3525 - accuracy: 0.8488\n",
            "Epoch 111/120\n",
            "249/249 [==============================] - 1s 3ms/step - loss: 0.3525 - accuracy: 0.8495\n",
            "Epoch 112/120\n",
            "249/249 [==============================] - 1s 3ms/step - loss: 0.3525 - accuracy: 0.8495\n",
            "Epoch 113/120\n",
            "249/249 [==============================] - 1s 2ms/step - loss: 0.3523 - accuracy: 0.8501\n",
            "Epoch 114/120\n",
            "249/249 [==============================] - 1s 2ms/step - loss: 0.3527 - accuracy: 0.8498\n",
            "Epoch 115/120\n",
            "249/249 [==============================] - 0s 2ms/step - loss: 0.3524 - accuracy: 0.8505\n",
            "Epoch 116/120\n",
            "249/249 [==============================] - 0s 2ms/step - loss: 0.3524 - accuracy: 0.8489\n",
            "Epoch 117/120\n",
            "249/249 [==============================] - 0s 2ms/step - loss: 0.3526 - accuracy: 0.8504\n",
            "Epoch 118/120\n",
            "249/249 [==============================] - 0s 2ms/step - loss: 0.3524 - accuracy: 0.8488\n",
            "Epoch 119/120\n",
            "249/249 [==============================] - 0s 2ms/step - loss: 0.3523 - accuracy: 0.8493\n",
            "Epoch 120/120\n",
            "249/249 [==============================] - 0s 2ms/step - loss: 0.3526 - accuracy: 0.8495\n"
          ]
        },
        {
          "output_type": "execute_result",
          "data": {
            "text/plain": [
              "<keras.src.callbacks.History at 0x7a36851b0520>"
            ]
          },
          "metadata": {},
          "execution_count": 51
        }
      ]
    },
    {
      "cell_type": "code",
      "source": [
        "print(ann.predict(sc.transform([[0.0, 1.0, 0.0, 501, 0, 32, 2, 0.0, 4, 1, 545501]])) > 0.5)"
      ],
      "metadata": {
        "colab": {
          "base_uri": "https://localhost:8080/"
        },
        "id": "64QmXrWEBEIS",
        "outputId": "0e5b8cd5-1753-4534-abcd-633fb584b88f"
      },
      "execution_count": 52,
      "outputs": [
        {
          "output_type": "stream",
          "name": "stdout",
          "text": [
            "1/1 [==============================] - 0s 97ms/step\n",
            "[[False]]\n"
          ]
        }
      ]
    },
    {
      "cell_type": "code",
      "source": [
        "y_pred = ann.predict(X_test)\n",
        "y_pred = (y_pred > 0.5)\n",
        "print(np.concatenate((y_pred.reshape(len(y_pred),1), y_test.reshape(len(y_test),1)),1))"
      ],
      "metadata": {
        "colab": {
          "base_uri": "https://localhost:8080/"
        },
        "id": "uHsoPK1EBJQL",
        "outputId": "6cb7ec6f-d584-465f-dad8-1152c1e84162"
      },
      "execution_count": 53,
      "outputs": [
        {
          "output_type": "stream",
          "name": "stdout",
          "text": [
            "63/63 [==============================] - 0s 2ms/step\n",
            "[[0 1]\n",
            " [0 0]\n",
            " [0 0]\n",
            " ...\n",
            " [0 1]\n",
            " [0 0]\n",
            " [1 1]]\n"
          ]
        }
      ]
    },
    {
      "cell_type": "code",
      "source": [
        "from sklearn.metrics import confusion_matrix, accuracy_score\n",
        "cm = confusion_matrix(y_test, y_pred)\n",
        "print(cm)\n",
        "accuracy_score(y_test, y_pred)"
      ],
      "metadata": {
        "colab": {
          "base_uri": "https://localhost:8080/"
        },
        "id": "WEXg_SVUBR70",
        "outputId": "5e87f7b3-c656-4c18-ede6-3aba8734dbf6"
      },
      "execution_count": 54,
      "outputs": [
        {
          "output_type": "stream",
          "name": "stdout",
          "text": [
            "[[1501   72]\n",
            " [ 216  197]]\n"
          ]
        },
        {
          "output_type": "execute_result",
          "data": {
            "text/plain": [
              "0.8549848942598187"
            ]
          },
          "metadata": {},
          "execution_count": 54
        }
      ]
    }
  ]
}